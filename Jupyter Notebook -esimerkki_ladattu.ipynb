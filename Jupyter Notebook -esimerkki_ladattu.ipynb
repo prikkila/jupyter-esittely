{
 "cells": [
  {
   "cell_type": "markdown",
   "metadata": {},
   "source": [
    "# Tervetuloa tutustumaan Jupyter Notebookiin!"
   ]
  },
  {
   "cell_type": "markdown",
   "metadata": {},
   "source": [
    "Jupyter Notebook on sovellus, jonka avulla voi luoda reaaliaikaista lähdekoodia, tavallista tekstiä, interaktiivisia osioita ja kuvia yhdistäviä dokumentteja. Jupyter Notebook tukee yli 40:tä eri ohjelmointikieltä. Asennuksen jälkeen sovellus toimii suoraan selaimessa graafisen käyttöliittymän kautta.\n",
    "\n",
    "Tavallisen tekstin tuottaminen Jupyter Notebookilla ei vaadi minkäänlaista ohjelmointitaitoa. Esimerkiksi tämä johdantokappale on kirjoitettu suoraan verkkoselaimessa."
   ]
  },
  {
   "cell_type": "markdown",
   "metadata": {},
   "source": [
    "## Mitä eroa on tekstillä ja koodilla?"
   ]
  },
  {
   "cell_type": "markdown",
   "metadata": {},
   "source": [
    "Tavallinen teksti muodostuu kirjaimista, sanoista ja merkeistä, joita me ihmiset ymmärrämme. Valitettavasti sama ei päde tietokoneille. Ne osaavat suorittaa vain tarkasti määriteltyjä komentoja. Näiden komentojen tekstimuotoista listausta kutsutaan lähdekoodiksi.\n",
    "\n",
    "Esimerkiksi ihmiselle voitaisiin antaa seuraavanlainen tehtävä: \"Laske, kuinka monta kirjainta on sanassa \"hiukkaskiihdytin\"\". Pikaisella vilkaisulla kirjaimia havaitaan olevan 16 kappaletta. Tietokoneen lukemana vastaava komento tuottaa seuraavanlaisen reaktion:"
   ]
  },
  {
   "cell_type": "code",
   "execution_count": 1,
   "metadata": {
    "collapsed": false
   },
   "outputs": [
    {
     "ename": "SyntaxError",
     "evalue": "invalid syntax (<ipython-input-1-6173a93b75ca>, line 1)",
     "output_type": "error",
     "traceback": [
      "\u001b[1;36m  File \u001b[1;32m\"<ipython-input-1-6173a93b75ca>\"\u001b[1;36m, line \u001b[1;32m1\u001b[0m\n\u001b[1;33m    Laske, kuinka monta kirjainta on sanassa \"hiukkaskiihdytin\".\u001b[0m\n\u001b[1;37m                      ^\u001b[0m\n\u001b[1;31mSyntaxError\u001b[0m\u001b[1;31m:\u001b[0m invalid syntax\n"
     ]
    }
   ],
   "source": [
    "Laske, kuinka monta kirjainta on sanassa \"hiukkaskiihdytin\"."
   ]
  },
  {
   "cell_type": "markdown",
   "metadata": {},
   "source": [
    "Jo heti ensimmäiset sanat ovat koneelle liikaa, joten se tulostaa virheilmoituksen. Kuitenkin hieman toisenlaista komentoa tarjoamalla myös tietokone suoriutuu tästä tehtävästä:"
   ]
  },
  {
   "cell_type": "code",
   "execution_count": 2,
   "metadata": {
    "collapsed": false
   },
   "outputs": [
    {
     "data": {
      "text/plain": [
       "16"
      ]
     },
     "execution_count": 2,
     "metadata": {},
     "output_type": "execute_result"
    }
   ],
   "source": [
    "len(\"hiukkaskiihdytin\")"
   ]
  },
  {
   "cell_type": "markdown",
   "metadata": {},
   "source": [
    "Tämä siis lyhyenä esimerkkinä ohjelmoinnin ideasta."
   ]
  },
  {
   "cell_type": "markdown",
   "metadata": {},
   "source": [
    "## Mitäpä jos yhdistettäisiin nämä kaksi?"
   ]
  },
  {
   "cell_type": "markdown",
   "metadata": {},
   "source": [
    "Ohjelmointia vaativien aihealueiden ja itse ohjelmoinnin opettaminen vaatii koodin kirjoittamista ja ymmärtämistä. Tekstimuotoinen ohjelmointikoodi voi kuitenkin pahimmillaan olla hyvinkin monimutkaista ja puuduttavaa luettavaa. Jupyter Notebookin avulla ohjelmointikoodin kylkeen saadaan helposti mm. muotoiltua tekstiä otsikoineen, kuvia, videoita ja interaktiivista koodia.\n",
    "\n",
    "Jupyteria pystyy hyödyntämään esimerkiksi luentokalvojen korvikkeena tai oppilaiden muokattavissa olevana tehtävänä. Yksinkertainen esimerkkitehtävä voisi olla seuraavanlainen:"
   ]
  },
  {
   "cell_type": "markdown",
   "metadata": {},
   "source": [
    "#### Kokeile ajaa alla olevaa koodia klikkaamalla laatikkoa ja valitsemalla työkalupalkista \"Cell -> Run Cells\". Mitä tapahtuu? Muokkaa koodia siten, että ajettaessa kone tulostaa ruudulle oman nimesi."
   ]
  },
  {
   "cell_type": "code",
   "execution_count": 3,
   "metadata": {
    "collapsed": false
   },
   "outputs": [
    {
     "name": "stdout",
     "output_type": "stream",
     "text": [
      "Hello world!\n"
     ]
    }
   ],
   "source": [
    "# Nämä ovat kommenttirivejä, jotka eivät vaikuta koodin toimintaan. Kokeile ajaa koodia, jonka jälkeen muokkaa\n",
    "# sitä tehtävänannon mukaisesti.\n",
    "\n",
    "print(\"Hello world!\")"
   ]
  },
  {
   "cell_type": "code",
   "execution_count": 4,
   "metadata": {
    "collapsed": false
   },
   "outputs": [
    {
     "name": "stdout",
     "output_type": "stream",
     "text": [
      "Paavo Rikkilä\n"
     ]
    }
   ],
   "source": [
    "# Nämä ovat kommenttirivejä, jotka eivät vaikuta koodin toimintaan. Kokeile ajaa koodia, jonka jälkeen muokkaa\n",
    "# sitä tehtävänannon mukaisesti.\n",
    "\n",
    "print(\"Paavo Rikkilä\")"
   ]
  },
  {
   "cell_type": "markdown",
   "metadata": {},
   "source": [
    "Tässä interaktiivisessa esimerkissä oppilas voi siis lukea muotoiltua tehtävänantoa, tutustua koodin sisältöön, muokata koodin sisältöä ja havainnoida, miten muokattu koodi toimii. Jupyterin avulla kaikki tämä tapahtuu samassa sovelluksessa, ilman erillisiä ohjelmia.\n",
    "\n",
    "## Muutamia käyttömahdollisuuksia\n",
    "\n",
    "Matemaattisten yhtälöiden kirjoittaminen onnistuu helposti LaTeXilla:\n",
    "\n",
    "$$e^x=\\sum_{i=0}^\\infty \\frac{1}{i!}x^i$$\n",
    "\n",
    "Notebookeihin voi lisätä kuvia, videoita, kuvaajia...\n",
    "\n",
    "<img src=\"CMS_endcap.jpg\">\n",
    "\n",
    "Kuva: Arpad Horvath, 29.10.2005. Avoimesti saatavilla: https://commons.wikimedia.org/wiki/File:CERN_CMS_endcap_2005_October.jpg"
   ]
  }
 ],
 "metadata": {
  "kernelspec": {
   "display_name": "Python 3",
   "language": "python",
   "name": "python3"
  },
  "language_info": {
   "codemirror_mode": {
    "name": "ipython",
    "version": 3
   },
   "file_extension": ".py",
   "mimetype": "text/x-python",
   "name": "python",
   "nbconvert_exporter": "python",
   "pygments_lexer": "ipython3",
   "version": "3.5.1"
  }
 },
 "nbformat": 4,
 "nbformat_minor": 0
}
