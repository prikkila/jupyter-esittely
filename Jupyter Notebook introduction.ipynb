{
 "cells": [
  {
   "cell_type": "markdown",
   "metadata": {},
   "source": [
    "# Some examples with Jupyter"
   ]
  },
  {
   "cell_type": "markdown",
   "metadata": {},
   "source": [
    "Jupyter Notebook (formerly IPython Notebook) is an application that allows you to combine real-time coding, regular text, interactive visualizations and pictures in the same document. Jupyter Notebook supports over 40 different programming languages, including e.g. Python, C#, C++, Java, Ruby and Matlab.\n",
    "\n",
    "After the simple installation, Jupyter works straight in the web browser with a graphical user interface.\n",
    "\n",
    "Jupyter Notebook has many interesting features which could be useful in educational purposes."
   ]
  },
  {
   "cell_type": "code",
   "execution_count": null,
   "metadata": {
    "collapsed": false
   },
   "outputs": [],
   "source": [
    "# Let's import a scientific calculating package called \"numpy\".\n",
    "import numpy as np\n",
    "\n",
    "# Let's import a library called \"matplotlib\" for plotting things.\n",
    "import matplotlib.pyplot as plt\n",
    "\n",
    "x = np.linspace(1,20,20) # This creates an array with numbers 1-20 on it.\n",
    "y = np.sin(x) # This creates an array with numbers sin(1), sin(2),..., sin(20) on it. \n",
    "\n",
    "\n",
    "# Jupyter Notebook has predefined \"magic functions\". This one is for making the plot visible straight in notebook.\n",
    "%matplotlib inline\n",
    "\n",
    "plt.title(\"An example plot. Not so accurate.\")\n",
    "plt.xlabel(\"Name of the x-label\")\n",
    "plt.ylabel(\"Name of the y-label\")\n",
    "plt.plot(x,y)"
   ]
  },
  {
   "cell_type": "markdown",
   "metadata": {},
   "source": [
    "TODO: Tähän sitten historgammiesimerkki, jossa luodaan randomlukuja ja piirretään niiden jakauma."
   ]
  },
  {
   "cell_type": "code",
   "execution_count": null,
   "metadata": {
    "collapsed": false
   },
   "outputs": [],
   "source": [
    "# Let's create a sample of \"standard normal\" distribution of 1000 numbers with numpy-package.\n",
    "random_numbers = np.random.randn(1000)\n",
    "\n",
    "# Let's make a histogram of this distribution we created.\n",
    "plt.hist(random_numbers)\n",
    "plt.title(\"A historgam example\")\n",
    "plt.xlabel(\"Value\")\n",
    "plt.ylabel(\"Frequency\")\n",
    "\n"
   ]
  }
 ],
 "metadata": {
  "kernelspec": {
   "display_name": "Python 3",
   "language": "python",
   "name": "python3"
  },
  "language_info": {
   "codemirror_mode": {
    "name": "ipython",
    "version": 3
   },
   "file_extension": ".py",
   "mimetype": "text/x-python",
   "name": "python",
   "nbconvert_exporter": "python",
   "pygments_lexer": "ipython3",
   "version": "3.5.1"
  }
 },
 "nbformat": 4,
 "nbformat_minor": 0
}
